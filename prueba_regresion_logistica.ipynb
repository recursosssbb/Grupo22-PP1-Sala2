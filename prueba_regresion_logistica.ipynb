{
 "cells": [
  {
   "cell_type": "markdown",
   "metadata": {},
   "source": [
    "**REGRESION LOGISTICA**\n",
    "\n",
    "Predecir qué tipo de tecnología de internet 4G es más probable que tenga una localidad (variable objetivo 4G_2022)."
   ]
  },
  {
   "cell_type": "code",
   "execution_count": 1,
   "metadata": {},
   "outputs": [],
   "source": [
    "# Importando las bibliotecas necesarias\n",
    "import pandas as pd\n",
    "from sklearn.model_selection import train_test_split\n",
    "from sklearn.linear_model import LogisticRegression\n",
    "from sklearn.metrics import classification_report"
   ]
  },
  {
   "cell_type": "code",
   "execution_count": 2,
   "metadata": {},
   "outputs": [],
   "source": [
    "# Cargando los datos\n",
    "df = pd.read_csv('dataframe_completo.csv')"
   ]
  },
  {
   "cell_type": "code",
   "execution_count": 3,
   "metadata": {},
   "outputs": [],
   "source": [
    "# Definiendo las variables predictoras y la variable objetivo\n",
    "X = df.drop('4G_2022', axis=1)\n",
    "y = df['4G_2022']"
   ]
  },
  {
   "cell_type": "code",
   "execution_count": 4,
   "metadata": {},
   "outputs": [],
   "source": [
    "# Codificación one-hot de las variables categóricas\n",
    "X = pd.get_dummies(X, columns=['Provincia', 'Partido', 'Localidad'])"
   ]
  },
  {
   "cell_type": "code",
   "execution_count": 5,
   "metadata": {},
   "outputs": [],
   "source": [
    "# Dividiendo los datos en conjuntos de entrenamiento y prueba\n",
    "X_train, X_test, y_train, y_test = train_test_split(X, y, test_size=0.2, random_state=42)"
   ]
  },
  {
   "cell_type": "code",
   "execution_count": 6,
   "metadata": {},
   "outputs": [],
   "source": [
    "# Creando el modelo de regresión logística\n",
    "model = LogisticRegression()"
   ]
  },
  {
   "cell_type": "code",
   "execution_count": 7,
   "metadata": {},
   "outputs": [
    {
     "data": {
      "text/html": [
       "<style>#sk-container-id-1 {color: black;}#sk-container-id-1 pre{padding: 0;}#sk-container-id-1 div.sk-toggleable {background-color: white;}#sk-container-id-1 label.sk-toggleable__label {cursor: pointer;display: block;width: 100%;margin-bottom: 0;padding: 0.3em;box-sizing: border-box;text-align: center;}#sk-container-id-1 label.sk-toggleable__label-arrow:before {content: \"▸\";float: left;margin-right: 0.25em;color: #696969;}#sk-container-id-1 label.sk-toggleable__label-arrow:hover:before {color: black;}#sk-container-id-1 div.sk-estimator:hover label.sk-toggleable__label-arrow:before {color: black;}#sk-container-id-1 div.sk-toggleable__content {max-height: 0;max-width: 0;overflow: hidden;text-align: left;background-color: #f0f8ff;}#sk-container-id-1 div.sk-toggleable__content pre {margin: 0.2em;color: black;border-radius: 0.25em;background-color: #f0f8ff;}#sk-container-id-1 input.sk-toggleable__control:checked~div.sk-toggleable__content {max-height: 200px;max-width: 100%;overflow: auto;}#sk-container-id-1 input.sk-toggleable__control:checked~label.sk-toggleable__label-arrow:before {content: \"▾\";}#sk-container-id-1 div.sk-estimator input.sk-toggleable__control:checked~label.sk-toggleable__label {background-color: #d4ebff;}#sk-container-id-1 div.sk-label input.sk-toggleable__control:checked~label.sk-toggleable__label {background-color: #d4ebff;}#sk-container-id-1 input.sk-hidden--visually {border: 0;clip: rect(1px 1px 1px 1px);clip: rect(1px, 1px, 1px, 1px);height: 1px;margin: -1px;overflow: hidden;padding: 0;position: absolute;width: 1px;}#sk-container-id-1 div.sk-estimator {font-family: monospace;background-color: #f0f8ff;border: 1px dotted black;border-radius: 0.25em;box-sizing: border-box;margin-bottom: 0.5em;}#sk-container-id-1 div.sk-estimator:hover {background-color: #d4ebff;}#sk-container-id-1 div.sk-parallel-item::after {content: \"\";width: 100%;border-bottom: 1px solid gray;flex-grow: 1;}#sk-container-id-1 div.sk-label:hover label.sk-toggleable__label {background-color: #d4ebff;}#sk-container-id-1 div.sk-serial::before {content: \"\";position: absolute;border-left: 1px solid gray;box-sizing: border-box;top: 0;bottom: 0;left: 50%;z-index: 0;}#sk-container-id-1 div.sk-serial {display: flex;flex-direction: column;align-items: center;background-color: white;padding-right: 0.2em;padding-left: 0.2em;position: relative;}#sk-container-id-1 div.sk-item {position: relative;z-index: 1;}#sk-container-id-1 div.sk-parallel {display: flex;align-items: stretch;justify-content: center;background-color: white;position: relative;}#sk-container-id-1 div.sk-item::before, #sk-container-id-1 div.sk-parallel-item::before {content: \"\";position: absolute;border-left: 1px solid gray;box-sizing: border-box;top: 0;bottom: 0;left: 50%;z-index: -1;}#sk-container-id-1 div.sk-parallel-item {display: flex;flex-direction: column;z-index: 1;position: relative;background-color: white;}#sk-container-id-1 div.sk-parallel-item:first-child::after {align-self: flex-end;width: 50%;}#sk-container-id-1 div.sk-parallel-item:last-child::after {align-self: flex-start;width: 50%;}#sk-container-id-1 div.sk-parallel-item:only-child::after {width: 0;}#sk-container-id-1 div.sk-dashed-wrapped {border: 1px dashed gray;margin: 0 0.4em 0.5em 0.4em;box-sizing: border-box;padding-bottom: 0.4em;background-color: white;}#sk-container-id-1 div.sk-label label {font-family: monospace;font-weight: bold;display: inline-block;line-height: 1.2em;}#sk-container-id-1 div.sk-label-container {text-align: center;}#sk-container-id-1 div.sk-container {/* jupyter's `normalize.less` sets `[hidden] { display: none; }` but bootstrap.min.css set `[hidden] { display: none !important; }` so we also need the `!important` here to be able to override the default hidden behavior on the sphinx rendered scikit-learn.org. See: https://github.com/scikit-learn/scikit-learn/issues/21755 */display: inline-block !important;position: relative;}#sk-container-id-1 div.sk-text-repr-fallback {display: none;}</style><div id=\"sk-container-id-1\" class=\"sk-top-container\"><div class=\"sk-text-repr-fallback\"><pre>LogisticRegression()</pre><b>In a Jupyter environment, please rerun this cell to show the HTML representation or trust the notebook. <br />On GitHub, the HTML representation is unable to render, please try loading this page with nbviewer.org.</b></div><div class=\"sk-container\" hidden><div class=\"sk-item\"><div class=\"sk-estimator sk-toggleable\"><input class=\"sk-toggleable__control sk-hidden--visually\" id=\"sk-estimator-id-1\" type=\"checkbox\" checked><label for=\"sk-estimator-id-1\" class=\"sk-toggleable__label sk-toggleable__label-arrow\">LogisticRegression</label><div class=\"sk-toggleable__content\"><pre>LogisticRegression()</pre></div></div></div></div></div>"
      ],
      "text/plain": [
       "LogisticRegression()"
      ]
     },
     "execution_count": 7,
     "metadata": {},
     "output_type": "execute_result"
    }
   ],
   "source": [
    "# Entrenando el modelo\n",
    "model.fit(X_train, y_train)"
   ]
  },
  {
   "cell_type": "code",
   "execution_count": 8,
   "metadata": {},
   "outputs": [],
   "source": [
    "# Haciendo predicciones en el conjunto de prueba\n",
    "y_pred = model.predict(X_test)"
   ]
  },
  {
   "cell_type": "code",
   "execution_count": 9,
   "metadata": {},
   "outputs": [
    {
     "name": "stdout",
     "output_type": "stream",
     "text": [
      "              precision    recall  f1-score   support\n",
      "\n",
      "           0       0.76      0.21      0.33      6444\n",
      "           1       0.74      0.97      0.84     14969\n",
      "\n",
      "    accuracy                           0.74     21413\n",
      "   macro avg       0.75      0.59      0.59     21413\n",
      "weighted avg       0.75      0.74      0.69     21413\n",
      "\n"
     ]
    }
   ],
   "source": [
    "# Imprimiendo el informe de clasificación\n",
    "print(classification_report(y_test, y_pred))"
   ]
  },
  {
   "cell_type": "markdown",
   "metadata": {},
   "source": [
    "El informe de clasificación es una forma común de evaluar el rendimiento de un modelo de clasificación. Cada término significa :\n",
    "\n",
    "- **Precision**: Es la proporción de verdaderos positivos (las instancias que el modelo clasificó correctamente como positivas) entre todas las instancias que el modelo clasificó como positivas. En tu caso, la precisión para la clase 0 es 0.76 y para la clase 1 es 0.74.\n",
    "\n",
    "- **Recall** (también conocido como sensibilidad): Es la proporción de verdaderos positivos entre todas las instancias que son realmente positivas. En tu caso, el recall para la clase 0 es 0.21 y para la clase 1 es 0.97.\n",
    "\n",
    "- **F1-score**: Es una medida que combina la precisión y el recall en un solo número utilizando la media armónica. Un F1-score perfecto sería 1, mientras que el peor valor posible sería 0. En tu caso, el F1-score para la clase 0 es 0.33 y para la clase 1 es 0.84.\n",
    "\n",
    "- **Support**: Es el número de instancias reales para cada clase en el conjunto de datos de prueba. En tu caso, hay 6444 instancias de la clase 0 y 14969 instancias de la clase 1.\n",
    "\n",
    "- **Accuracy**: Es la proporción de predicciones correctas entre todas las predicciones realizadas. En tu caso, la precisión del modelo es 0.74.\n",
    "\n",
    "- **Macro avg**: Es el promedio no ponderado de las métricas para cada clase.\n",
    "\n",
    "- **Weighted avg**: Es el promedio ponderado de las métricas para cada clase, donde cada métrica se pondera por el número de instancias en esa clase."
   ]
  },
  {
   "cell_type": "markdown",
   "metadata": {},
   "source": [
    "Al predecir la variable 4G_2022 con regresión logística, hay varios puntos que podríamos comentar basándonos en el informe de clasificación que se proporcionó:\n",
    "\n",
    "**Precisión general del modelo**: La precisión general del modelo es del 74%, lo que significa que el modelo predijo correctamente el 74% de las instancias en tu conjunto de datos de prueba.\n",
    "\n",
    "**Rendimiento en las clases individuales**: El modelo parece tener un rendimiento mucho mejor al predecir la clase 1 (donde 4G_2022 es 1) que al predecir la clase 0 (donde 4G_2022 es 0). Esto se evidencia en las métricas de precisión, recall y F1-score para cada clase. Para la clase 1, estas métricas son relativamente altas (0.74, 0.97 y 0.84 respectivamente), mientras que para la clase 0 son bastante bajas (0.76, 0.21 y 0.33 respectivamente).\n",
    "\n",
    "**Desequilibrio de clases**: El informe de clasificación muestra que hay muchas más instancias de la clase 1 (14969) que de la clase 0 (6444) en tu conjunto de datos de prueba. Este desequilibrio de clases podría estar afectando al rendimiento del modelo, ya que los modelos de machine learning a menudo tienen dificultades para manejar clases desequilibradas.\n",
    "\n",
    "**Posibles mejoras**: Podrías intentar varias estrategias para mejorar el rendimiento del modelo. Por ejemplo, podrías intentar equilibrar las clases utilizando técnicas como el sobremuestreo o el submuestreo. También podrías intentar ajustar los hiperparámetros del modelo (como la tasa de aprendizaje o la regularización) para ver si eso mejora el rendimiento."
   ]
  },
  {
   "cell_type": "markdown",
   "metadata": {},
   "source": [
    "***Determinar qué localidad es más probable que tenga la tecnología de Internet 4G***"
   ]
  },
  {
   "cell_type": "code",
   "execution_count": 20,
   "metadata": {},
   "outputs": [
    {
     "name": "stdout",
     "output_type": "stream",
     "text": [
      "                   Feature   Coefficient\n",
      "2           Poblacion_2022  4.367448e-04\n",
      "21              Total_2022  1.191443e-04\n",
      "14    Cant_Cablemodem_2022  5.669468e-05\n",
      "16   Cant_FibraOptica_2022  3.607509e-05\n",
      "13          Cant_ADSL_2022  1.756367e-05\n",
      "..                     ...           ...\n",
      "43      Provincia_SAN LUIS -1.102600e-09\n",
      "26  Provincia_BUENOS AIRES -1.297732e-09\n",
      "24                 Latitud -1.847371e-07\n",
      "23        Salario_promedio -1.881137e-07\n",
      "25                Longitud -3.950918e-07\n",
      "\n",
      "[3235 rows x 2 columns]\n"
     ]
    }
   ],
   "source": [
    "# Asumiendo que 'model' es tu modelo entrenado y 'X' son tus datos\n",
    "coefficients = pd.DataFrame({\n",
    "    'Feature': X.columns,\n",
    "    'Coefficient': model.coef_[0]\n",
    "})\n",
    "\n",
    "# Ordenar los coeficientes en orden descendente\n",
    "coefficients = coefficients.sort_values(by='Coefficient', ascending=False)\n",
    "\n",
    "print(coefficients)"
   ]
  },
  {
   "cell_type": "markdown",
   "metadata": {},
   "source": [
    "Para determinar qué localidad es más probable que tenga la tecnología de Internet 4G, necesitaríamos analizar los coeficientes del modelo de regresión logística que has entrenado. Los coeficientes indican la relación entre cada característica y la probabilidad logarítmica de la clase positiva (en este caso, tener 4G en 2022).\n",
    "Este código crea un DataFrame que contiene cada característica y su coeficiente correspondiente, y luego lo ordenará para que las características con los coeficientes más altos estén en la parte superior. Puedes buscar las características correspondientes a las localidades en este DataFrame para ver cuáles tienen los coeficientes más altos."
   ]
  },
  {
   "cell_type": "code",
   "execution_count": 21,
   "metadata": {},
   "outputs": [
    {
     "name": "stdout",
     "output_type": "stream",
     "text": [
      "                   Feature   Coefficient\n",
      "45      Provincia_SANTA FE  2.759277e-09\n",
      "30       Provincia_CORDOBA  1.774189e-09\n",
      "32    Provincia_ENTRE RIOS  1.428477e-09\n",
      "28         Provincia_CHACO  1.018156e-09\n",
      "31    Provincia_CORRIENTES  1.002665e-09\n",
      "..                     ...           ...\n",
      "29        Provincia_CHUBUT -4.933300e-10\n",
      "34         Provincia_JUJUY -6.159086e-10\n",
      "40     Provincia_RIO NEGRO -6.763346e-10\n",
      "43      Provincia_SAN LUIS -1.102600e-09\n",
      "26  Provincia_BUENOS AIRES -1.297732e-09\n",
      "\n",
      "[3209 rows x 2 columns]\n"
     ]
    }
   ],
   "source": [
    "# Filtrando el DataFrame para mostrar solo las filas que empiezan con 'Poblacion', 'Provincia' y 'Localidad'\n",
    "filtered_coefficients = coefficients[coefficients['Feature'].str.startswith(('Provincia', 'Partido', 'Localidad'))]\n",
    "\n",
    "print(filtered_coefficients)"
   ]
  },
  {
   "cell_type": "code",
   "execution_count": 22,
   "metadata": {},
   "outputs": [],
   "source": [
    "\n",
    "\n",
    "# Exportando el DataFrame 'filtered_coefficients' a un archivo CSV\n",
    "filtered_coefficients.to_csv('filtered_coefficients.csv', index=False)\n",
    "\n"
   ]
  }
 ],
 "metadata": {
  "kernelspec": {
   "display_name": "Python 3.10.5 64-bit",
   "language": "python",
   "name": "python3"
  },
  "language_info": {
   "codemirror_mode": {
    "name": "ipython",
    "version": 3
   },
   "file_extension": ".py",
   "mimetype": "text/x-python",
   "name": "python",
   "nbconvert_exporter": "python",
   "pygments_lexer": "ipython3",
   "version": "3.10.5"
  },
  "orig_nbformat": 4,
  "vscode": {
   "interpreter": {
    "hash": "cee9bf6c99e1b112f4ddc55fa9c4826d0cf732624e65774bfbedd6b02e6f70da"
   }
  }
 },
 "nbformat": 4,
 "nbformat_minor": 2
}
